{
 "cells": [
  {
   "cell_type": "code",
   "execution_count": null,
   "metadata": {},
   "outputs": [],
   "source": [
    "import speech_recognition as sr\n",
    "import chess\n",
    "import chess.engine\n",
    "import time\n",
    "import pyttsx3\n",
    "import chess.svg"
   ]
  },
  {
   "cell_type": "code",
   "execution_count": null,
   "metadata": {},
   "outputs": [],
   "source": [
    "board = chess.Board()\n",
    "r = sr.Recognizer()\n",
    "mic = sr.Microphone()\n",
    "tts = pyttsx3.init()\n",
    "tts.setProperty('rate', 150)\n",
    "engine = chess.engine.SimpleEngine.popen_uci(r\"/Users/ayushsriv/Desktop/stockfish/12/bin/stockfish\")\n"
   ]
  },
  {
   "cell_type": "code",
   "execution_count": null,
   "metadata": {},
   "outputs": [],
   "source": [
    "def recognize_speech_from_mic(recognizer, microphone):\n",
    "    \"\"\"Transcribe speech from recorded from `microphone`.\n",
    "\n",
    "    Returns a dictionary with three keys:\n",
    "    \"success\": a boolean indicating whether or not the API request was\n",
    "               successful\n",
    "    \"error\":   `None` if no error occured, otherwise a string containing\n",
    "               an error message if the API could not be reached or\n",
    "               speech was unrecognizable\n",
    "    \"transcription\": `None` if speech could not be transcribed,\n",
    "               otherwise a string containing the transcribed text\n",
    "    \"\"\"\n",
    "    # check that recognizer and microphone arguments are appropriate type\n",
    "    if not isinstance(recognizer, sr.Recognizer):\n",
    "        raise TypeError(\"`recognizer` must be `Recognizer` instance\")\n",
    "\n",
    "    if not isinstance(microphone, sr.Microphone):\n",
    "        raise TypeError(\"`microphone` must be `Microphone` instance\")\n",
    "\n",
    "    # adjust the recognizer sensitivity to ambient noise and record audio\n",
    "    # from the microphone\n",
    "    with microphone as source:\n",
    "        recognizer.adjust_for_ambient_noise(source)\n",
    "        audio = recognizer.listen(source)\n",
    "\n",
    "    # set up the response object\n",
    "    response = {\n",
    "        \"success\": True,\n",
    "        \"error\": None,\n",
    "        \"transcription\": None\n",
    "    }\n",
    "\n",
    "    # try recognizing the speech in the recording\n",
    "    # if a RequestError or UnknownValueError exception is caught,\n",
    "    #     update the response object accordingly\n",
    "    try:\n",
    "        response[\"transcription\"] = recognizer.recognize_google(audio)\n",
    "    except sr.RequestError:\n",
    "        # API was unreachable or unresponsive\n",
    "        response[\"success\"] = False\n",
    "        response[\"error\"] = \"API unavailable\"\n",
    "    except sr.UnknownValueError:\n",
    "        # speech was unintelligible\n",
    "        response[\"error\"] = \"Unable to recognize speech\"\n",
    "\n",
    "    return response"
   ]
  },
  {
   "cell_type": "code",
   "execution_count": null,
   "metadata": {},
   "outputs": [],
   "source": [
    "def spoken_to_algebraic(text):\n",
    "    if text == 'kingside castle':\n",
    "        return 'O-O'\n",
    "    elif text == 'queenside castle':\n",
    "        return 'O-O-O'\n",
    "    # Define a dictionary that maps chess pieces to their spoken format\n",
    "    piece_names = {'night': 'N', 'knight': 'N', 'bishop': 'B', 'rook': 'R', 'queen': 'Q', 'king': 'K'}\n",
    "    action_words = {'takes': 'x', 'to': '', '2':''}\n",
    "    algebraic = ''\n",
    "    for t in text.split(\" \"):\n",
    "        if t in piece_names:\n",
    "            algebraic+=piece_names[t]\n",
    "        elif t in action_words:\n",
    "            algebraic+=action_words[t]\n",
    "        else:\n",
    "            algebraic+=t\n",
    "        \n",
    "    return algebraic"
   ]
  },
  {
   "cell_type": "code",
   "execution_count": null,
   "metadata": {},
   "outputs": [],
   "source": [
    "# Define a function that takes a chess move in algebraic notation and returns it in spoken format\n",
    "def algebraic_to_spoken(move):    \n",
    "    # Define a dictionary that maps chess pieces to their spoken format\n",
    "    piece_names = {'P': 'pawn', 'N': 'knight', 'B': 'bishop', 'R': 'rook', 'Q': 'queen', 'K': 'king'}\n",
    "    \n",
    "    if move=='O-O':\n",
    "        return \"king side castle\"\n",
    "    elif move=='O-O-O':\n",
    "        return \"queen side castle\" \n",
    "        \n",
    "    # Construct the spoken format of the move\n",
    "    spoken = ''\n",
    "    for c in move:\n",
    "        if c.isupper():\n",
    "            spoken+=piece_names[c]\n",
    "            spoken+=\" \"\n",
    "        elif c=='x':\n",
    "            spoken+=\"takes\"\n",
    "            spoken+=\" \"\n",
    "        elif c=='+':\n",
    "            spoken+=\"check\"\n",
    "        elif c=='#':\n",
    "            spoken+=\"checkmate\"        \n",
    "        else:\n",
    "            spoken+=c\n",
    "    \n",
    "    return spoken"
   ]
  },
  {
   "cell_type": "code",
   "execution_count": null,
   "metadata": {
    "scrolled": false
   },
   "outputs": [],
   "source": [
    "\n",
    "while not board.is_game_over():\n",
    "    \n",
    "    result = engine.play(board, chess.engine.Limit(time=0.1))\n",
    "    \n",
    "    # convert from uci to algebraic notation\n",
    "    ai_move = chess.Move.from_uci(str(result.move))\n",
    "    \n",
    "    # text to speech\n",
    "    tts.say(algebraic_to_spoken(board.san(ai_move)))\n",
    "    tts.runAndWait()\n",
    "    board.push(result.move)\n",
    "    while True and not board.is_game_over():\n",
    "        try: \n",
    "            print(\"Speak now\")\n",
    "            move = recognize_speech_from_mic(r,mic)\n",
    "            move = move[\"transcription\"].lower()\n",
    "            print(move)\n",
    "            move = spoken_to_algebraic(move)\n",
    "            board.parse_san(move)\n",
    "        except Exception as e:\n",
    "            print(e)\n",
    "            print(\"Not a valid move\")\n",
    "            continue\n",
    "        else:\n",
    "            break\n",
    "    board.push_san(move)\n",
    "tts.quit()"
   ]
  },
  {
   "cell_type": "markdown",
   "metadata": {},
   "source": [
    "keyword Move? optional for people who want to talk while playing \n",
    "Show board\n",
    "take back \n",
    "\n",
    "\n",
    "\n"
   ]
  },
  {
   "cell_type": "code",
   "execution_count": null,
   "metadata": {},
   "outputs": [],
   "source": []
  }
 ],
 "metadata": {
  "kernelspec": {
   "display_name": "Python 3",
   "language": "python",
   "name": "python3"
  },
  "language_info": {
   "codemirror_mode": {
    "name": "ipython",
    "version": 3
   },
   "file_extension": ".py",
   "mimetype": "text/x-python",
   "name": "python",
   "nbconvert_exporter": "python",
   "pygments_lexer": "ipython3",
   "version": "3.7.3"
  }
 },
 "nbformat": 4,
 "nbformat_minor": 2
}
